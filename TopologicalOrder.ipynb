{
 "cells": [
  {
   "cell_type": "code",
   "execution_count": null,
   "metadata": {},
   "outputs": [],
   "source": [
    "using Revise\n",
    "using ITensors\n",
    "using ITensorInfiniteMPS\n",
    "\n",
    "using Plots\n",
    "using Statistics\n",
    "using LaTeXStrings\n",
    "\n",
    "include(\"src/StructureFactor\")\n",
    "include(\"src/Entanglement_spectrum\")\n"
   ]
  }
 ],
 "metadata": {
  "kernelspec": {
   "display_name": "Julia 1.8.5",
   "language": "julia",
   "name": "julia-1.8"
  },
  "language_info": {
   "name": "julia"
  }
 },
 "nbformat": 4,
 "nbformat_minor": 2
}
